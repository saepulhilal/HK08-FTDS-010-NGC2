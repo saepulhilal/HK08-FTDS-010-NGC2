{
 "cells": [
  {
   "cell_type": "markdown",
   "metadata": {},
   "source": [
    "# NGC 2\n",
    "\n",
    "Nama : Saepul Hilal\n",
    "\n",
    "Batch : FTDS-010"
   ]
  },
  {
   "cell_type": "code",
   "execution_count": 7,
   "metadata": {},
   "outputs": [
    {
     "name": "stdout",
     "output_type": "stream",
     "text": [
      "Pokonya mantap lah  memiliki  3  kata\n"
     ]
    }
   ],
   "source": [
    "def numberOfWord(sentence):\n",
    "    split = sentence.split()\n",
    "    count = len(split)\n",
    "    return count\n",
    "\n",
    "kalimat = input(\"Masukan Kalimat \")\n",
    "print(kalimat, \" memiliki \", numberOfWord(kalimat), \" kata\")\n"
   ]
  },
  {
   "cell_type": "code",
   "execution_count": 248,
   "metadata": {},
   "outputs": [
    {
     "name": "stdout",
     "output_type": "stream",
     "text": [
      "[5, 10, 15, 20]\n"
     ]
    },
    {
     "data": {
      "text/plain": [
       "[5, 10, 15, 20]"
      ]
     },
     "execution_count": 248,
     "metadata": {},
     "output_type": "execute_result"
    }
   ],
   "source": [
    "a=int(input(\"Masukan angka awal = \"))\n",
    "b=int(input(\"Masukan angka akhir = \"))\n",
    "c=int(input(\"Masukan angka kelipatan = \"))\n",
    "\n",
    "\n",
    "\n",
    "def findMultiple(startRange,endRange,multiple):\n",
    "    endRange +=1\n",
    "    list = []\n",
    "    ulang = range(startRange, endRange)\n",
    "    for i in ulang:\n",
    "       if i % multiple == 0:\n",
    "        list.append(i)\n",
    "    return list    \n",
    "\n",
    "\n",
    "findMultiple(a,b,c)\n"
   ]
  },
  {
   "cell_type": "code",
   "execution_count": 45,
   "metadata": {},
   "outputs": [
    {
     "data": {
      "text/plain": [
       "{'saepul': 3, 'hilal': 4}"
      ]
     },
     "execution_count": 45,
     "metadata": {},
     "output_type": "execute_result"
    }
   ],
   "source": [
    "# score = 55\n",
    "# convertTo = gpa\n",
    "# newGrader = { }\n",
    "\n",
    "\n",
    "def convertLetter(score):  \n",
    "    letterGrade=\"\"\n",
    "    # if convertTo == 'letter_grade':\n",
    "    if score >= 85:\n",
    "        letterGrade = \"A\"\n",
    "    elif score >= 70:\n",
    "        letterGrade = \"B\"\n",
    "    elif score >= 60:\n",
    "        letterGrade = \"C\"\n",
    "    elif score >= 50:\n",
    "        letterGrade = \"D\"\n",
    "    elif score >= 40:\n",
    "        letterGrade = \"E\"\n",
    "    elif score >= 0:\n",
    "        letterGrade = \"F\"\n",
    "    return letterGrade\n",
    "\n",
    "def convertGpa(score):\n",
    "    gpaScale=0\n",
    "    if score >= 85:\n",
    "        gpaScale = 4\n",
    "    elif score >= 70:\n",
    "        gpaScale = 3\n",
    "    elif score >= 60:\n",
    "        gpaScale = 2.5\n",
    "    elif score >= 50:\n",
    "        gpaScale = 2\n",
    "    elif score >= 40:\n",
    "        gpaScale = 1.5\n",
    "    elif score >= 0:\n",
    "        gpaScale = 1\n",
    "    return gpaScale\n",
    "\n",
    "def gradeConverter(convert_to,**kwargs):\n",
    "    newGrader={}\n",
    "    if convert_to == 'gpa':\n",
    "        for k in kwargs :\n",
    "            # print(k,kwargs[k])\n",
    "            kwargs[k]=convertGpa(kwargs[k])\n",
    "            newGrader.update({k:kwargs[k]})\n",
    "        \n",
    "    elif (convert_to =='letter_grade'):\n",
    "        for k in kwargs : \n",
    "            kwargs[k]=convertLetter(kwargs[k])\n",
    "            newGrader.update({k:kwargs[k]})\n",
    "    return newGrader\n",
    "\n",
    "gradeConverter(convert_to='gpa',saepul=78,hilal=88)\n",
    "\n",
    "\n",
    "\n",
    "\n",
    "\n",
    "\n",
    "\n"
   ]
  },
  {
   "cell_type": "code",
   "execution_count": 13,
   "metadata": {},
   "outputs": [
    {
     "name": "stdout",
     "output_type": "stream",
     "text": [
      "2\n"
     ]
    }
   ],
   "source": [
    "def my_function(n):\n",
    "    \n",
    "    if n < 0:\n",
    "        print('Salah Input')\n",
    "    elif n == 0:\n",
    "        return 0\n",
    "    elif n == 1 or n == 2:\n",
    "        return 1\n",
    "    else:\n",
    "        return my_function(n-1) + my_function(n-2)\n",
    "    \n",
    "print(my_function(3))\n"
   ]
  }
 ],
 "metadata": {
  "kernelspec": {
   "display_name": "base",
   "language": "python",
   "name": "python3"
  },
  "language_info": {
   "codemirror_mode": {
    "name": "ipython",
    "version": 3
   },
   "file_extension": ".py",
   "mimetype": "text/x-python",
   "name": "python",
   "nbconvert_exporter": "python",
   "pygments_lexer": "ipython3",
   "version": "3.11.4"
  }
 },
 "nbformat": 4,
 "nbformat_minor": 2
}
